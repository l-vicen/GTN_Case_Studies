{
 "cells": [
  {
   "cell_type": "code",
   "execution_count": 1,
   "id": "3bc4dae9",
   "metadata": {},
   "outputs": [],
   "source": [
    "import numpy as np\n",
    "import egttools as egt"
   ]
  },
  {
   "cell_type": "code",
   "execution_count": 2,
   "id": "5ff06a7a",
   "metadata": {},
   "outputs": [],
   "source": [
    "# Parameters\n",
    "payoffs = np.array([[-0.5, 2.], [0., 0]])\n",
    "nb_strategies = 2; Z = 100; beta = 1\n",
    "pop_states = np.arange(0, Z + 1, 1)"
   ]
  },
  {
   "cell_type": "code",
   "execution_count": 14,
   "id": "4f7064fd",
   "metadata": {},
   "outputs": [
    {
     "name": "stdout",
     "output_type": "stream",
     "text": [
      "In a Hawk-Dove game, the Hawk strategy represents an aggressive individual, i.e., when it encounters other individuals (of any strategy) it will choose to fight. Doves, however, prefer to avoid confrontation. For this reason, when Hawks encounter other Hawks, they will fight and have a chance of ending badly injured. We represent this with a payoff of −0.5. On the other hand, when a Hawk encounters a Dove, the Dove will escape and the Hawk will be able to keep the resource in dispute. We represent this with a payoff of 2 for the Hawk and of 0 for the Dove. Finally, when Doves meet, they will share the resource, but this will give them no surplus and they will get a payoff of 0.\n",
      "[[-0.5  2. ]\n",
      " [ 0.   0. ]]\n"
     ]
    }
   ],
   "source": [
    "print(\"In a Hawk-Dove game, the Hawk strategy represents an aggressive individual, i.e., when it encounters other individuals (of any strategy) it will choose to fight. Doves, however, prefer to avoid confrontation. For this reason, when Hawks encounter other Hawks, they will fight and have a chance of ending badly injured. We represent this with a payoff of −0.5. On the other hand, when a Hawk encounters a Dove, the Dove will escape and the Hawk will be able to keep the resource in dispute. We represent this with a payoff of 2 for the Hawk and of 0 for the Dove. Finally, when Doves meet, they will share the resource, but this will give them no surplus and they will get a payoff of 0.\")\n",
    "print(payoffs)"
   ]
  },
  {
   "cell_type": "code",
   "execution_count": 13,
   "id": "2d909e4f",
   "metadata": {},
   "outputs": [
    {
     "name": "stdout",
     "output_type": "stream",
     "text": [
      "Number of strategies: 2\n",
      "Number of states: 100\n",
      "Beta: 1\n"
     ]
    }
   ],
   "source": [
    "print(\"Number of strategies: {}\".format(nb_strategies))\n",
    "print(\"Number of states: {}\".format(Z))\n",
    "print(\"Beta: {}\".format(beta))"
   ]
  },
  {
   "cell_type": "code",
   "execution_count": 5,
   "id": "edd30322",
   "metadata": {},
   "outputs": [
    {
     "name": "stdout",
     "output_type": "stream",
     "text": [
      "[  0   1   2   3   4   5   6   7   8   9  10  11  12  13  14  15  16  17\n",
      "  18  19  20  21  22  23  24  25  26  27  28  29  30  31  32  33  34  35\n",
      "  36  37  38  39  40  41  42  43  44  45  46  47  48  49  50  51  52  53\n",
      "  54  55  56  57  58  59  60  61  62  63  64  65  66  67  68  69  70  71\n",
      "  72  73  74  75  76  77  78  79  80  81  82  83  84  85  86  87  88  89\n",
      "  90  91  92  93  94  95  96  97  98  99 100]\n"
     ]
    }
   ],
   "source": [
    "print(pop_states)"
   ]
  },
  {
   "cell_type": "code",
   "execution_count": 6,
   "id": "ba14ea01",
   "metadata": {},
   "outputs": [],
   "source": [
    "# Define a game object that will hold the payoff matrix\n",
    "game = egt.games.Matrix2PlayerGameHolder(nb_strategies, payoff_matrix = payoffs)"
   ]
  },
  {
   "cell_type": "code",
   "execution_count": 7,
   "id": "35e1fa92",
   "metadata": {},
   "outputs": [
    {
     "name": "stdout",
     "output_type": "stream",
     "text": [
      "Holder game object for matrix of expected payoffs for 2-player games.\n"
     ]
    }
   ],
   "source": [
    "print(game)"
   ]
  },
  {
   "cell_type": "code",
   "execution_count": 8,
   "id": "61ccd644",
   "metadata": {},
   "outputs": [],
   "source": [
    "# Evolver and calculate gradients\n",
    "evolver = egt.analytical.PairwiseComparison(Z, game)\n",
    "gradients = np.array([evolver.calculate_gradient_of_selection(beta, np.array([x, Z-x])) for x in range(Z + 1)])"
   ]
  },
  {
   "cell_type": "code",
   "execution_count": 9,
   "id": "8a1503d5",
   "metadata": {},
   "outputs": [
    {
     "name": "stdout",
     "output_type": "stream",
     "text": [
      "<egttools.numerical.numerical.PairwiseComparison object at 0x12b09d370>\n"
     ]
    }
   ],
   "source": [
    "print(evolver)"
   ]
  },
  {
   "cell_type": "code",
   "execution_count": 10,
   "id": "ac7043b9",
   "metadata": {},
   "outputs": [
    {
     "name": "stdout",
     "output_type": "stream",
     "text": [
      "[[ 0.          0.        ]\n",
      " [ 0.00761594 -0.00761594]\n",
      " [ 0.01497203 -0.01497203]\n",
      " [ 0.02206847 -0.02206847]\n",
      " [ 0.02890556 -0.02890556]\n",
      " [ 0.03548367 -0.03548367]\n",
      " [ 0.04180324 -0.04180324]\n",
      " [ 0.04786482 -0.04786482]\n",
      " [ 0.05366905 -0.05366905]\n",
      " [ 0.05921665 -0.05921665]\n",
      " [ 0.06450846 -0.06450846]\n",
      " [ 0.06954539 -0.06954539]\n",
      " [ 0.0743285  -0.0743285 ]\n",
      " [ 0.07885893 -0.07885893]\n",
      " [ 0.08313793 -0.08313793]\n",
      " [ 0.0871669  -0.0871669 ]\n",
      " [ 0.09094732 -0.09094732]\n",
      " [ 0.09448082 -0.09448082]\n",
      " [ 0.09776916 -0.09776916]\n",
      " [ 0.10081422 -0.10081422]\n",
      " [ 0.10361801 -0.10361801]\n",
      " [ 0.1061827  -0.1061827 ]\n",
      " [ 0.10851059 -0.10851059]\n",
      " [ 0.11060412 -0.11060412]\n",
      " [ 0.11246589 -0.11246589]\n",
      " [ 0.11409864 -0.11409864]\n",
      " [ 0.11550527 -0.11550527]\n",
      " [ 0.11668883 -0.11668883]\n",
      " [ 0.11765256 -0.11765256]\n",
      " [ 0.11839982 -0.11839982]\n",
      " [ 0.11893415 -0.11893415]\n",
      " [ 0.11925928 -0.11925928]\n",
      " [ 0.11937907 -0.11937907]\n",
      " [ 0.11929758 -0.11929758]\n",
      " [ 0.11901903 -0.11901903]\n",
      " [ 0.11854781 -0.11854781]\n",
      " [ 0.11788848 -0.11788848]\n",
      " [ 0.11704581 -0.11704581]\n",
      " [ 0.11602469 -0.11602469]\n",
      " [ 0.11483022 -0.11483022]\n",
      " [ 0.11346768 -0.11346768]\n",
      " [ 0.11194251 -0.11194251]\n",
      " [ 0.11026032 -0.11026032]\n",
      " [ 0.1084269  -0.1084269 ]\n",
      " [ 0.10644822 -0.10644822]\n",
      " [ 0.10433041 -0.10433041]\n",
      " [ 0.10207977 -0.10207977]\n",
      " [ 0.09970277 -0.09970277]\n",
      " [ 0.09720602 -0.09720602]\n",
      " [ 0.09459633 -0.09459633]\n",
      " [ 0.09188063 -0.09188063]\n",
      " [ 0.08906603 -0.08906603]\n",
      " [ 0.08615975 -0.08615975]\n",
      " [ 0.0831692  -0.0831692 ]\n",
      " [ 0.0801019  -0.0801019 ]\n",
      " [ 0.0769655  -0.0769655 ]\n",
      " [ 0.07376779 -0.07376779]\n",
      " [ 0.07051668 -0.07051668]\n",
      " [ 0.06722019 -0.06722019]\n",
      " [ 0.06388646 -0.06388646]\n",
      " [ 0.06052371 -0.06052371]\n",
      " [ 0.05714027 -0.05714027]\n",
      " [ 0.05374456 -0.05374456]\n",
      " [ 0.05034506 -0.05034506]\n",
      " [ 0.04695034 -0.04695034]\n",
      " [ 0.04356903 -0.04356903]\n",
      " [ 0.04020979 -0.04020979]\n",
      " [ 0.03688136 -0.03688136]\n",
      " [ 0.03359249 -0.03359249]\n",
      " [ 0.03035197 -0.03035197]\n",
      " [ 0.0271686  -0.0271686 ]\n",
      " [ 0.02405119 -0.02405119]\n",
      " [ 0.02100855 -0.02100855]\n",
      " [ 0.01804948 -0.01804948]\n",
      " [ 0.01518275 -0.01518275]\n",
      " [ 0.01241712 -0.01241712]\n",
      " [ 0.00976128 -0.00976128]\n",
      " [ 0.0072239  -0.0072239 ]\n",
      " [ 0.00481358 -0.00481358]\n",
      " [ 0.00253883 -0.00253883]\n",
      " [ 0.00040812 -0.00040812]\n",
      " [-0.00157019  0.00157019]\n",
      " [-0.00338785  0.00338785]\n",
      " [-0.00503667  0.00503667]\n",
      " [-0.00650863  0.00650863]\n",
      " [-0.00779578  0.00779578]\n",
      " [-0.00889035  0.00889035]\n",
      " [-0.00978466  0.00978466]\n",
      " [-0.01047122  0.01047122]\n",
      " [-0.01094266  0.01094266]\n",
      " [-0.01119179  0.01119179]\n",
      " [-0.01121158  0.01121158]\n",
      " [-0.01099518  0.01099518]\n",
      " [-0.01053591  0.01053591]\n",
      " [-0.00982729  0.00982729]\n",
      " [-0.008863    0.008863  ]\n",
      " [-0.00763694  0.00763694]\n",
      " [-0.00614321  0.00614321]\n",
      " [-0.00437611  0.00437611]\n",
      " [-0.00233014  0.00233014]\n",
      " [ 0.          0.        ]]\n"
     ]
    }
   ],
   "source": [
    "print(gradients)"
   ]
  },
  {
   "cell_type": "code",
   "execution_count": 11,
   "id": "dbdc13e6",
   "metadata": {},
   "outputs": [
    {
     "data": {
      "text/plain": [
       "<Axes: xlabel='frequency of hawks (k/Z)', ylabel='gradient of selection (G)'>"
      ]
     },
     "execution_count": 11,
     "metadata": {},
     "output_type": "execute_result"
    },
    {
     "data": {
      "image/png": "[encoded data removed]",
      "text/plain": [
       "<Figure size 600x500 with 1 Axes>"
      ]
     },
     "metadata": {},
     "output_type": "display_data"
    }
   ],
   "source": [
    "# Plot the results\n",
    "egt.plotting.indicators.plot_gradients(gradients[:, 0], figsize=(6,5), marker_facecolor = 'white', xlabel = 'frequency of hawks (k/Z)', marker = 'o', marker_size = 30, marker_plot_freq = 2)"
   ]
  },
  {
   "cell_type": "code",
   "execution_count": null,
   "id": "737c4338",
   "metadata": {},
   "outputs": [],
   "source": []
  }
 ],
 "metadata": {
  "kernelspec": {
   "display_name": "Python 3 (ipykernel)",
   "language": "python",
   "name": "python3"
  },
  "language_info": {
   "codemirror_mode": {
    "name": "ipython",
    "version": 3
   },
   "file_extension": ".py",
   "mimetype": "text/x-python",
   "name": "python",
   "nbconvert_exporter": "python",
   "pygments_lexer": "ipython3",
   "version": "3.11.3"
  }
 },
 "nbformat": 4,
 "nbformat_minor": 5
}
